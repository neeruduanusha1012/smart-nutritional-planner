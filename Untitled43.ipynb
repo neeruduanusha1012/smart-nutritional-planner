{
  "nbformat": 4,
  "nbformat_minor": 0,
  "metadata": {
    "colab": {
      "provenance": []
    },
    "kernelspec": {
      "name": "python3",
      "display_name": "Python 3"
    },
    "language_info": {
      "name": "python"
    }
  },
  "cells": [
    {
      "cell_type": "code",
      "execution_count": 1,
      "metadata": {
        "colab": {
          "base_uri": "https://localhost:8080/"
        },
        "id": "JUCiFhDSa_zC",
        "outputId": "3127747d-1661-426f-da79-817372651031"
      },
      "outputs": [
        {
          "output_type": "stream",
          "name": "stdout",
          "text": [
            "Enter your dietary preferences (e.g., 'balanced-diet', 'low-carb', 'high-protein'): low carb\n",
            "\n",
            "Personalized Meal Plan:\n",
            "Breakfast: Oatmeal with Berries - Calories: 250, Protein: 10g, Carbs: 45g, Fat: 5g\n",
            "Lunch: Grilled Chicken Salad - Calories: 350, Protein: 30g, Carbs: 20g, Fat: 15g\n",
            "Dinner: Salmon with Veggies - Calories: 450, Protein: 35g, Carbs: 20g, Fat: 25g\n",
            "Snack: Trail Mix - Calories: 250, Protein: 8g, Carbs: 20g, Fat: 15g\n"
          ]
        }
      ],
      "source": [
        "import random\n",
        "\n",
        "# Sample data for meals using dictionary\n",
        "meals = {\n",
        "    \"breakfast\": [\n",
        "        {\"name\": \"Oatmeal with Berries\", \"calories\": 250, \"protein\": 10, \"carbs\": 45, \"fat\": 5},\n",
        "        {\"name\": \"Scrambled Eggs with pea\", \"calories\": 300, \"protein\": 20, \"carbs\": 10, \"fat\": 20},\n",
        "        {\"name\": \"Oat Bowl with milk\", \"calories\": 200, \"protein\": 5, \"carbs\": 35, \"fat\": 5}\n",
        "    ],\n",
        "    \"lunch\": [\n",
        "        {\"name\": \"Grilled Chicken Salad\", \"calories\": 350, \"protein\": 30, \"carbs\": 20, \"fat\": 15},\n",
        "        {\"name\": \"Quinoa and Black Beans\", \"calories\": 400, \"protein\": 15, \"carbs\": 60, \"fat\": 10},\n",
        "        {\"name\": \"Chicken Sandwich\", \"calories\": 300, \"protein\": 25, \"carbs\": 40, \"fat\": 8}\n",
        "    ],\n",
        "    \"dinner\": [\n",
        "        {\"name\": \"Salmon with Veggies\", \"calories\": 450, \"protein\": 35, \"carbs\": 20, \"fat\": 25},\n",
        "        {\"name\": \"Vegetable Stir Fry\", \"calories\": 400, \"protein\": 10, \"carbs\": 70, \"fat\": 15},\n",
        "        {\"name\": \"Chicken Tacos\", \"calories\": 500, \"protein\": 30, \"carbs\": 50, \"fat\": 20}\n",
        "    ],\n",
        "    \"snack\": [\n",
        "        {\"name\": \"Yogurt\", \"calories\": 150, \"protein\": 15, \"carbs\": 10, \"fat\": 5},\n",
        "        {\"name\": \"Apple with Peanut Butter\", \"calories\": 200, \"protein\": 5, \"carbs\": 30, \"fat\": 10},\n",
        "        {\"name\": \"Trail Mix\", \"calories\": 250, \"protein\": 8, \"carbs\": 20, \"fat\": 15}\n",
        "    ]\n",
        "}\n",
        "\n",
        "# Function to generate a meal plan\n",
        "def generate_meal_plan(preferences):\n",
        "    meal_plan = {}\n",
        "    for meal_time, meal_options in meals.items():\n",
        "        filtered_meals = [meal for meal in meal_options if all(pref in meal['name'].lower() for pref in preferences)]\n",
        "        if filtered_meals:\n",
        "            meal_plan[meal_time] = random.choice(filtered_meals)\n",
        "        else:\n",
        "            meal_plan[meal_time] = random.choice(meal_options)\n",
        "    return meal_plan\n",
        "\n",
        "# User-input\n",
        "user_preferences = input(\"Enter your dietary preferences (e.g., 'balanced-diet', 'low-carb', 'high-protein'): \").lower().split()\n",
        "\n",
        "# Display of meal plan\n",
        "meal_plan = generate_meal_plan(user_preferences)\n",
        "print(\"\\nPersonalized Meal Plan:\")\n",
        "for meal_time, meal in meal_plan.items():\n",
        "    print(f\"{meal_time.capitalize()}: {meal['name']} - Calories: {meal['calories']}, Protein: {meal['protein']}g, Carbs: {meal['carbs']}g, Fat: {meal['fat']}g\")"
      ]
    }
  ]
}